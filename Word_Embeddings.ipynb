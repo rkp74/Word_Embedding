{
  "nbformat": 4,
  "nbformat_minor": 0,
  "metadata": {
    "colab": {
      "provenance": [],
      "authorship_tag": "ABX9TyPoSJCFliUPmLvgHwHTKxN7",
      "include_colab_link": true
    },
    "kernelspec": {
      "name": "python3",
      "display_name": "Python 3"
    },
    "language_info": {
      "name": "python"
    }
  },
  "cells": [
    {
      "cell_type": "markdown",
      "metadata": {
        "id": "view-in-github",
        "colab_type": "text"
      },
      "source": [
        "<a href=\"https://colab.research.google.com/github/rkp74/Word_Embedding/blob/main/Word_Embeddings.ipynb\" target=\"_parent\"><img src=\"https://colab.research.google.com/assets/colab-badge.svg\" alt=\"Open In Colab\"/></a>"
      ]
    },
    {
      "cell_type": "code",
      "source": [
        "!pip install tensorflow"
      ],
      "metadata": {
        "colab": {
          "base_uri": "https://localhost:8080/"
        },
        "id": "p4XcM8VVfQHC",
        "outputId": "a61aed7e-f03b-4201-cbee-1875dd27ae89"
      },
      "execution_count": 12,
      "outputs": [
        {
          "output_type": "stream",
          "name": "stdout",
          "text": [
            "Looking in indexes: https://pypi.org/simple, https://us-python.pkg.dev/colab-wheels/public/simple/\n",
            "Requirement already satisfied: tensorflow in /usr/local/lib/python3.9/dist-packages (2.11.0)\n",
            "Requirement already satisfied: astunparse>=1.6.0 in /usr/local/lib/python3.9/dist-packages (from tensorflow) (1.6.3)\n",
            "Requirement already satisfied: tensorboard<2.12,>=2.11 in /usr/local/lib/python3.9/dist-packages (from tensorflow) (2.11.2)\n",
            "Requirement already satisfied: typing-extensions>=3.6.6 in /usr/local/lib/python3.9/dist-packages (from tensorflow) (4.5.0)\n",
            "Requirement already satisfied: keras<2.12,>=2.11.0 in /usr/local/lib/python3.9/dist-packages (from tensorflow) (2.11.0)\n",
            "Requirement already satisfied: tensorflow-io-gcs-filesystem>=0.23.1 in /usr/local/lib/python3.9/dist-packages (from tensorflow) (0.31.0)\n",
            "Requirement already satisfied: numpy>=1.20 in /usr/local/lib/python3.9/dist-packages (from tensorflow) (1.22.4)\n",
            "Requirement already satisfied: flatbuffers>=2.0 in /usr/local/lib/python3.9/dist-packages (from tensorflow) (23.3.3)\n",
            "Requirement already satisfied: packaging in /usr/local/lib/python3.9/dist-packages (from tensorflow) (23.0)\n",
            "Requirement already satisfied: wrapt>=1.11.0 in /usr/local/lib/python3.9/dist-packages (from tensorflow) (1.15.0)\n",
            "Requirement already satisfied: h5py>=2.9.0 in /usr/local/lib/python3.9/dist-packages (from tensorflow) (3.8.0)\n",
            "Requirement already satisfied: google-pasta>=0.1.1 in /usr/local/lib/python3.9/dist-packages (from tensorflow) (0.2.0)\n",
            "Requirement already satisfied: tensorflow-estimator<2.12,>=2.11.0 in /usr/local/lib/python3.9/dist-packages (from tensorflow) (2.11.0)\n",
            "Requirement already satisfied: grpcio<2.0,>=1.24.3 in /usr/local/lib/python3.9/dist-packages (from tensorflow) (1.51.3)\n",
            "Requirement already satisfied: absl-py>=1.0.0 in /usr/local/lib/python3.9/dist-packages (from tensorflow) (1.4.0)\n",
            "Requirement already satisfied: setuptools in /usr/local/lib/python3.9/dist-packages (from tensorflow) (67.6.0)\n",
            "Requirement already satisfied: gast<=0.4.0,>=0.2.1 in /usr/local/lib/python3.9/dist-packages (from tensorflow) (0.4.0)\n",
            "Requirement already satisfied: six>=1.12.0 in /usr/local/lib/python3.9/dist-packages (from tensorflow) (1.16.0)\n",
            "Requirement already satisfied: protobuf<3.20,>=3.9.2 in /usr/local/lib/python3.9/dist-packages (from tensorflow) (3.19.6)\n",
            "Requirement already satisfied: libclang>=13.0.0 in /usr/local/lib/python3.9/dist-packages (from tensorflow) (15.0.6.1)\n",
            "Requirement already satisfied: opt-einsum>=2.3.2 in /usr/local/lib/python3.9/dist-packages (from tensorflow) (3.3.0)\n",
            "Requirement already satisfied: termcolor>=1.1.0 in /usr/local/lib/python3.9/dist-packages (from tensorflow) (2.2.0)\n",
            "Requirement already satisfied: wheel<1.0,>=0.23.0 in /usr/local/lib/python3.9/dist-packages (from astunparse>=1.6.0->tensorflow) (0.40.0)\n",
            "Requirement already satisfied: tensorboard-data-server<0.7.0,>=0.6.0 in /usr/local/lib/python3.9/dist-packages (from tensorboard<2.12,>=2.11->tensorflow) (0.6.1)\n",
            "Requirement already satisfied: google-auth-oauthlib<0.5,>=0.4.1 in /usr/local/lib/python3.9/dist-packages (from tensorboard<2.12,>=2.11->tensorflow) (0.4.6)\n",
            "Requirement already satisfied: google-auth<3,>=1.6.3 in /usr/local/lib/python3.9/dist-packages (from tensorboard<2.12,>=2.11->tensorflow) (2.16.2)\n",
            "Requirement already satisfied: requests<3,>=2.21.0 in /usr/local/lib/python3.9/dist-packages (from tensorboard<2.12,>=2.11->tensorflow) (2.27.1)\n",
            "Requirement already satisfied: tensorboard-plugin-wit>=1.6.0 in /usr/local/lib/python3.9/dist-packages (from tensorboard<2.12,>=2.11->tensorflow) (1.8.1)\n",
            "Requirement already satisfied: markdown>=2.6.8 in /usr/local/lib/python3.9/dist-packages (from tensorboard<2.12,>=2.11->tensorflow) (3.4.2)\n",
            "Requirement already satisfied: werkzeug>=1.0.1 in /usr/local/lib/python3.9/dist-packages (from tensorboard<2.12,>=2.11->tensorflow) (2.2.3)\n",
            "Requirement already satisfied: rsa<5,>=3.1.4 in /usr/local/lib/python3.9/dist-packages (from google-auth<3,>=1.6.3->tensorboard<2.12,>=2.11->tensorflow) (4.9)\n",
            "Requirement already satisfied: pyasn1-modules>=0.2.1 in /usr/local/lib/python3.9/dist-packages (from google-auth<3,>=1.6.3->tensorboard<2.12,>=2.11->tensorflow) (0.2.8)\n",
            "Requirement already satisfied: cachetools<6.0,>=2.0.0 in /usr/local/lib/python3.9/dist-packages (from google-auth<3,>=1.6.3->tensorboard<2.12,>=2.11->tensorflow) (5.3.0)\n",
            "Requirement already satisfied: requests-oauthlib>=0.7.0 in /usr/local/lib/python3.9/dist-packages (from google-auth-oauthlib<0.5,>=0.4.1->tensorboard<2.12,>=2.11->tensorflow) (1.3.1)\n",
            "Requirement already satisfied: importlib-metadata>=4.4 in /usr/local/lib/python3.9/dist-packages (from markdown>=2.6.8->tensorboard<2.12,>=2.11->tensorflow) (6.1.0)\n",
            "Requirement already satisfied: charset-normalizer~=2.0.0 in /usr/local/lib/python3.9/dist-packages (from requests<3,>=2.21.0->tensorboard<2.12,>=2.11->tensorflow) (2.0.12)\n",
            "Requirement already satisfied: certifi>=2017.4.17 in /usr/local/lib/python3.9/dist-packages (from requests<3,>=2.21.0->tensorboard<2.12,>=2.11->tensorflow) (2022.12.7)\n",
            "Requirement already satisfied: idna<4,>=2.5 in /usr/local/lib/python3.9/dist-packages (from requests<3,>=2.21.0->tensorboard<2.12,>=2.11->tensorflow) (3.4)\n",
            "Requirement already satisfied: urllib3<1.27,>=1.21.1 in /usr/local/lib/python3.9/dist-packages (from requests<3,>=2.21.0->tensorboard<2.12,>=2.11->tensorflow) (1.26.15)\n",
            "Requirement already satisfied: MarkupSafe>=2.1.1 in /usr/local/lib/python3.9/dist-packages (from werkzeug>=1.0.1->tensorboard<2.12,>=2.11->tensorflow) (2.1.2)\n",
            "Requirement already satisfied: zipp>=0.5 in /usr/local/lib/python3.9/dist-packages (from importlib-metadata>=4.4->markdown>=2.6.8->tensorboard<2.12,>=2.11->tensorflow) (3.15.0)\n",
            "Requirement already satisfied: pyasn1<0.5.0,>=0.4.6 in /usr/local/lib/python3.9/dist-packages (from pyasn1-modules>=0.2.1->google-auth<3,>=1.6.3->tensorboard<2.12,>=2.11->tensorflow) (0.4.8)\n",
            "Requirement already satisfied: oauthlib>=3.0.0 in /usr/local/lib/python3.9/dist-packages (from requests-oauthlib>=0.7.0->google-auth-oauthlib<0.5,>=0.4.1->tensorboard<2.12,>=2.11->tensorflow) (3.2.2)\n"
          ]
        }
      ]
    },
    {
      "cell_type": "code",
      "source": [
        "from tensorflow.keras.preprocessing.text import one_hot"
      ],
      "metadata": {
        "id": "bzkmQKSxfJhi"
      },
      "execution_count": 13,
      "outputs": []
    },
    {
      "cell_type": "code",
      "source": [
        "sent = [ 'the glass of tea' , 'the glass of coffee' , 'the cup of milk' , \"I am good boy\" , \"I am good Software Developer\" , \"Understand the meaning of words\" , \" Your videos are good\",]"
      ],
      "metadata": {
        "id": "Opp_sCObfnBt"
      },
      "execution_count": 14,
      "outputs": []
    },
    {
      "cell_type": "code",
      "source": [
        "sent"
      ],
      "metadata": {
        "colab": {
          "base_uri": "https://localhost:8080/"
        },
        "id": "dZHHVfDdgHuL",
        "outputId": "90e3487d-4f1c-4ea7-bb1f-babc2ba456fd"
      },
      "execution_count": 15,
      "outputs": [
        {
          "output_type": "execute_result",
          "data": {
            "text/plain": [
              "['the glass of tea',\n",
              " 'the glass of coffee',\n",
              " 'the cup of milk',\n",
              " 'I am good boy',\n",
              " 'I am good Software Developer',\n",
              " 'Understand the meaning of words',\n",
              " ' Your videos are good']"
            ]
          },
          "metadata": {},
          "execution_count": 15
        }
      ]
    },
    {
      "cell_type": "code",
      "source": [
        "voc_size = 12000"
      ],
      "metadata": {
        "id": "T0VrAy_ugLUP"
      },
      "execution_count": 16,
      "outputs": []
    },
    {
      "cell_type": "code",
      "source": [
        "onehot_repr = [one_hot(words,voc_size ) for words in sent]"
      ],
      "metadata": {
        "id": "dBCI4td-gVy9"
      },
      "execution_count": 17,
      "outputs": []
    },
    {
      "cell_type": "code",
      "source": [
        "print(onehot_repr)"
      ],
      "metadata": {
        "colab": {
          "base_uri": "https://localhost:8080/"
        },
        "id": "3ZDcm1__glmA",
        "outputId": "156bfc3c-8141-434b-ce83-9fb12a065db4"
      },
      "execution_count": 18,
      "outputs": [
        {
          "output_type": "stream",
          "name": "stdout",
          "text": [
            "[[633, 5093, 11577, 4266], [633, 5093, 11577, 9303], [633, 10095, 11577, 5810], [3645, 913, 4036, 9932], [3645, 913, 4036, 5461, 8984], [10943, 633, 7436, 11577, 4424], [5310, 10730, 3755, 4036]]\n"
          ]
        }
      ]
    },
    {
      "cell_type": "code",
      "source": [
        "from tensorflow.keras.layers import Embedding\n",
        "from tensorflow.keras.preprocessing.sequence import pad_sequences\n",
        "from tensorflow.keras.models import Sequential"
      ],
      "metadata": {
        "id": "NSZhl9ovgvJe"
      },
      "execution_count": 19,
      "outputs": []
    },
    {
      "cell_type": "code",
      "source": [
        "import numpy as np"
      ],
      "metadata": {
        "id": "f-nX4GBkhJzP"
      },
      "execution_count": 20,
      "outputs": []
    },
    {
      "cell_type": "code",
      "source": [
        "sent_length = 5\n",
        "embedded_docs = pad_sequences(onehot_repr, padding='pre' , maxlen = sent_length)\n",
        "print(embedded_docs)"
      ],
      "metadata": {
        "colab": {
          "base_uri": "https://localhost:8080/"
        },
        "id": "ZYkNnjtLhLj7",
        "outputId": "2d79f417-9406-4c6e-810e-5a33e074343e"
      },
      "execution_count": 21,
      "outputs": [
        {
          "output_type": "stream",
          "name": "stdout",
          "text": [
            "[[    0   633  5093 11577  4266]\n",
            " [    0   633  5093 11577  9303]\n",
            " [    0   633 10095 11577  5810]\n",
            " [    0  3645   913  4036  9932]\n",
            " [ 3645   913  4036  5461  8984]\n",
            " [10943   633  7436 11577  4424]\n",
            " [    0  5310 10730  3755  4036]]\n"
          ]
        }
      ]
    },
    {
      "cell_type": "code",
      "source": [
        "dim = 30"
      ],
      "metadata": {
        "id": "ErK-vJ1Bkhhi"
      },
      "execution_count": 22,
      "outputs": []
    },
    {
      "cell_type": "code",
      "source": [
        "model = Sequential()\n",
        "model.add(Embedding(voc_size,30,input_length = sent_length))\n",
        "# Compile with adam optimizer considering performance matrix as mean square error\n",
        "model.compile('adam' ,'mse')"
      ],
      "metadata": {
        "id": "Zq8YLPUxkjr3"
      },
      "execution_count": 27,
      "outputs": []
    },
    {
      "cell_type": "code",
      "source": [
        "model.summary()"
      ],
      "metadata": {
        "colab": {
          "base_uri": "https://localhost:8080/"
        },
        "id": "9BYmjAsKk2CA",
        "outputId": "8e1b330f-0f86-4105-f8ca-f871a98f5b5f"
      },
      "execution_count": 28,
      "outputs": [
        {
          "output_type": "stream",
          "name": "stdout",
          "text": [
            "Model: \"sequential_3\"\n",
            "_________________________________________________________________\n",
            " Layer (type)                Output Shape              Param #   \n",
            "=================================================================\n",
            " embedding_3 (Embedding)     (None, 5, 30)             360000    \n",
            "                                                                 \n",
            "=================================================================\n",
            "Total params: 360,000\n",
            "Trainable params: 360,000\n",
            "Non-trainable params: 0\n",
            "_________________________________________________________________\n"
          ]
        }
      ]
    },
    {
      "cell_type": "code",
      "source": [
        "print(model.predict(embedded_docs))"
      ],
      "metadata": {
        "colab": {
          "base_uri": "https://localhost:8080/"
        },
        "id": "zRRaNfhglhPo",
        "outputId": "2544212f-4fd7-460b-f719-5367ea94ed2d"
      },
      "execution_count": 29,
      "outputs": [
        {
          "output_type": "stream",
          "name": "stdout",
          "text": [
            "1/1 [==============================] - 1s 641ms/step\n",
            "[[[-0.03836167 -0.02991678  0.01811231 ... -0.00275028 -0.03861245\n",
            "   -0.00599531]\n",
            "  [-0.01570177 -0.02759122 -0.04129822 ...  0.03040493 -0.01195548\n",
            "   -0.00724189]\n",
            "  [-0.00871162  0.01186261  0.03533195 ... -0.00714116 -0.03881643\n",
            "    0.04485709]\n",
            "  [ 0.04629821  0.02883971 -0.04074484 ...  0.04854156  0.01464453\n",
            "    0.03826808]\n",
            "  [ 0.03943816  0.0332404  -0.03249292 ... -0.02140664  0.03431867\n",
            "    0.02755079]]\n",
            "\n",
            " [[-0.03836167 -0.02991678  0.01811231 ... -0.00275028 -0.03861245\n",
            "   -0.00599531]\n",
            "  [-0.01570177 -0.02759122 -0.04129822 ...  0.03040493 -0.01195548\n",
            "   -0.00724189]\n",
            "  [-0.00871162  0.01186261  0.03533195 ... -0.00714116 -0.03881643\n",
            "    0.04485709]\n",
            "  [ 0.04629821  0.02883971 -0.04074484 ...  0.04854156  0.01464453\n",
            "    0.03826808]\n",
            "  [ 0.03553515  0.01340866 -0.01283343 ...  0.04653115 -0.02821561\n",
            "    0.03430036]]\n",
            "\n",
            " [[-0.03836167 -0.02991678  0.01811231 ... -0.00275028 -0.03861245\n",
            "   -0.00599531]\n",
            "  [-0.01570177 -0.02759122 -0.04129822 ...  0.03040493 -0.01195548\n",
            "   -0.00724189]\n",
            "  [ 0.01355428 -0.04821436  0.02580089 ...  0.03970832  0.02579762\n",
            "    0.02795036]\n",
            "  [ 0.04629821  0.02883971 -0.04074484 ...  0.04854156  0.01464453\n",
            "    0.03826808]\n",
            "  [ 0.04468818 -0.0021886   0.04431419 ...  0.03035051  0.01886265\n",
            "    0.04182881]]\n",
            "\n",
            " ...\n",
            "\n",
            " [[ 0.00908349  0.04335048  0.00536189 ... -0.01986893 -0.01383554\n",
            "    0.0083523 ]\n",
            "  [ 0.02489046 -0.00119302  0.01134805 ... -0.00103426 -0.02840004\n",
            "    0.03911832]\n",
            "  [-0.02032647 -0.01768234  0.03778596 ...  0.02890817 -0.00394074\n",
            "    0.0098398 ]\n",
            "  [ 0.04340107  0.0243698  -0.0447652  ... -0.00636816 -0.01413612\n",
            "   -0.00500913]\n",
            "  [-0.03043449 -0.04307164 -0.03959643 ... -0.00788064  0.00905863\n",
            "   -0.03820523]]\n",
            "\n",
            " [[-0.00042846  0.02741231  0.01072396 ...  0.03193035  0.02390459\n",
            "   -0.03535386]\n",
            "  [-0.01570177 -0.02759122 -0.04129822 ...  0.03040493 -0.01195548\n",
            "   -0.00724189]\n",
            "  [-0.01002232 -0.03833635  0.00253446 ...  0.00742859 -0.00963227\n",
            "    0.03629119]\n",
            "  [ 0.04629821  0.02883971 -0.04074484 ...  0.04854156  0.01464453\n",
            "    0.03826808]\n",
            "  [ 0.02095335  0.04363019  0.04861161 ...  0.02625102 -0.01969264\n",
            "   -0.01790075]]\n",
            "\n",
            " [[-0.03836167 -0.02991678  0.01811231 ... -0.00275028 -0.03861245\n",
            "   -0.00599531]\n",
            "  [ 0.03592858  0.04758269 -0.04148713 ...  0.0135046   0.03088831\n",
            "    0.03747502]\n",
            "  [ 0.03361138 -0.04588972 -0.01682995 ... -0.02981545 -0.02226511\n",
            "   -0.03633219]\n",
            "  [-0.02180059 -0.0261931   0.0497799  ... -0.01532644 -0.00586671\n",
            "   -0.02495452]\n",
            "  [-0.02032647 -0.01768234  0.03778596 ...  0.02890817 -0.00394074\n",
            "    0.0098398 ]]]\n"
          ]
        }
      ]
    },
    {
      "cell_type": "code",
      "source": [
        "embedded_docs[0]"
      ],
      "metadata": {
        "colab": {
          "base_uri": "https://localhost:8080/"
        },
        "id": "l73K9_vsmR4Y",
        "outputId": "d9234251-2a96-4807-f779-32319fd7ba53"
      },
      "execution_count": 30,
      "outputs": [
        {
          "output_type": "execute_result",
          "data": {
            "text/plain": [
              "array([    0,   633,  5093, 11577,  4266], dtype=int32)"
            ]
          },
          "metadata": {},
          "execution_count": 30
        }
      ]
    },
    {
      "cell_type": "code",
      "source": [
        "print(model.predict(embedded_docs)[0])"
      ],
      "metadata": {
        "colab": {
          "base_uri": "https://localhost:8080/"
        },
        "id": "wr6I-4g9m5jJ",
        "outputId": "6331a90e-0e53-4538-a86d-70b97ae28d9c"
      },
      "execution_count": 31,
      "outputs": [
        {
          "output_type": "stream",
          "name": "stdout",
          "text": [
            "1/1 [==============================] - 0s 26ms/step\n",
            "[[-3.83616686e-02 -2.99167763e-02  1.81123056e-02 -4.40522432e-02\n",
            "  -1.66806355e-02 -1.59666687e-03  8.20271671e-05  3.53075005e-02\n",
            "   1.31750107e-03  4.93023060e-02  5.68435341e-03  3.99969928e-02\n",
            "  -3.70465294e-02 -1.85638182e-02 -1.24738589e-02  4.65615280e-02\n",
            "  -4.15065289e-02  4.35640849e-02  2.67992355e-02 -9.65422392e-03\n",
            "   7.58133829e-04  1.53679885e-02  2.24601068e-02  2.12391727e-02\n",
            "   3.46394069e-02 -4.72299717e-02 -1.76594146e-02 -2.75027752e-03\n",
            "  -3.86124477e-02 -5.99531084e-03]\n",
            " [-1.57017708e-02 -2.75912173e-02 -4.12982218e-02  1.72060393e-02\n",
            "  -1.49004944e-02 -8.04513693e-03  3.43957059e-02  9.50581953e-03\n",
            "  -5.27601317e-03 -1.69871338e-02 -3.60412225e-02 -4.14011963e-02\n",
            "   1.45757832e-02  4.10573371e-02 -2.95597203e-02 -2.86879782e-02\n",
            "   3.40662114e-02 -3.55967656e-02  4.30778302e-02  4.52372096e-02\n",
            "  -3.52299437e-02 -2.32367758e-02  2.47546919e-02  1.80304982e-02\n",
            "   1.42463110e-02  3.31087969e-02  2.01891996e-02  3.04049291e-02\n",
            "  -1.19554773e-02 -7.24189356e-03]\n",
            " [-8.71162489e-03  1.18626133e-02  3.53319533e-02  2.54807509e-02\n",
            "   4.46814336e-02  4.62668575e-02 -3.14728618e-02 -1.85941532e-03\n",
            "  -1.90550089e-03  9.82687622e-03 -1.49350241e-03  1.84116848e-02\n",
            "   9.91619751e-03  4.20785807e-02 -3.56496200e-02 -4.42708656e-03\n",
            "   3.44556682e-02 -4.26220074e-02  4.70422991e-02 -2.33541019e-02\n",
            "  -3.49580757e-02 -2.39487421e-02  1.45805962e-02  1.23155490e-02\n",
            "  -2.16153860e-02 -4.71942425e-02 -3.55669372e-02 -7.14116171e-03\n",
            "  -3.88164297e-02  4.48570885e-02]\n",
            " [ 4.62982096e-02  2.88397111e-02 -4.07448411e-02  4.68163975e-02\n",
            "   6.10863045e-03  6.85076788e-03 -5.11635467e-03 -1.52642652e-03\n",
            "  -3.20838094e-02  3.69670726e-02  2.89727114e-02  2.81910561e-02\n",
            "   3.33741345e-02 -2.27898248e-02  2.51940638e-03 -3.86499055e-02\n",
            "   7.70919397e-03  2.60946415e-02  4.08140458e-02 -1.03386156e-02\n",
            "  -3.98872010e-02 -3.48869339e-02 -5.96667454e-03  6.35907799e-03\n",
            "  -4.61148731e-02 -2.05206871e-02 -3.99841778e-02  4.85415570e-02\n",
            "   1.46445297e-02  3.82680781e-02]\n",
            " [ 3.94381620e-02  3.32404040e-02 -3.24929245e-02 -1.55401342e-02\n",
            "  -3.17232981e-02  3.95714678e-02 -1.45316012e-02  3.48634012e-02\n",
            "  -7.89711624e-03  1.61377676e-02 -2.29486711e-02  2.31187008e-02\n",
            "  -4.90372442e-02 -2.71959063e-02  4.46715020e-02 -2.94662956e-02\n",
            "  -4.03688103e-03  3.15528177e-02 -3.52923758e-02 -2.42565162e-02\n",
            "  -1.92906857e-02  4.04441021e-02  1.71677135e-02  1.68986358e-02\n",
            "  -2.15992816e-02  2.53362320e-02  1.27493031e-02 -2.14066394e-02\n",
            "   3.43186744e-02  2.75507905e-02]]\n"
          ]
        }
      ]
    }
  ]
}